{
 "cells": [
  {
   "cell_type": "markdown",
   "id": "beneficial-hacker",
   "metadata": {},
   "source": [
    "# Prediction of Singlet Triplet Gaps by Deep Learning \n",
    "The following code shows how our models can be restored from their final checkpoints to do ST gap and HL gap predictions on potential photosensitizer structures with their SMILES taken as inputs. "
   ]
  },
  {
   "cell_type": "code",
   "execution_count": 1,
   "id": "fleet-junior",
   "metadata": {},
   "outputs": [],
   "source": [
    "import numpy as np\n",
    "from rdkit import Chem\n",
    "import tensorflow as tf \n",
    "import deepchem as dc \n",
    "from models.graphConvModel import GraphConvModel\n",
    "\n",
    "import warnings\n",
    "warnings.filterwarnings('ignore')\n",
    "import logging\n",
    "logger = logging.getLogger()\n",
    "logger.setLevel(logging.ERROR)\n",
    "\n",
    "tf.random.set_seed(42)\n",
    "np.random.seed(42)"
   ]
  },
  {
   "cell_type": "code",
   "execution_count": 2,
   "id": "described-tumor",
   "metadata": {},
   "outputs": [],
   "source": [
    "list_names = [\"DAn_694\", \"DAn_4493\", \"DAn_1003\", \"DADx_21\"]\n",
    "list_SMILES = [\n",
    "    \"N#CC(C#N)=c1c2ccccc2c(=C(C#N)C#N)c2cc([N]3c4ccccc4Sc4ccccc43)ccc12\", \n",
    "    \"O=C1c2ccccc2C(=O)c2cc(-c3c4ccccc4c(N4c5ccccc5Oc5ccccc54)c4nsnc34)ccc21\",\n",
    "    \"O=C1c2ccccc2C(=O)c2cc(-n3c4ccccc4c(=O)c4ccccc43)ccc21\",\n",
    "    \"N#CC(C(C#N)=N1)=NC2=C1C(C=CC(C3=CC=C(N(C4=CC=CC=C4)C5=CC=CC=C5)C=C3)=C6)=C6C7=C2C=CC(C8=CC=C(N(C9=CC=CC=C9)C%10=CC=CC=C%10)C=C8)=C7\"\n",
    "]\n",
    "\n",
    "# feature SMILES\n",
    "graph_featurizer = dc.feat.graph_features.ConvMolFeaturizer()\n",
    "mols = [Chem.MolFromSmiles(smi) for smi in list_SMILES]\n",
    "graphs = graph_featurizer.featurize(mols)\n",
    "DA_data = dc.data.NumpyDataset(graphs[:-1])\n",
    "DAD_data = dc.data.NumpyDataset([graphs[-1]])"
   ]
  },
  {
   "cell_type": "code",
   "execution_count": 3,
   "id": "everyday-timing",
   "metadata": {},
   "outputs": [
    {
     "name": "stdout",
     "output_type": "stream",
     "text": [
      "DAn_694 ST gap: 0.1652 eV | HL gap: 1.8458 eV\n",
      "DAn_4493 ST gap: 0.0141 eV | HL gap: 1.5665 eV\n",
      "DAn_1003 ST gap: 0.1183 eV | HL gap: 2.8229 eV\n",
      "DADx_21 ST gap: 0.1989 eV | HL gap: 2.5847 eV\n"
     ]
    }
   ],
   "source": [
    "# restore model trained on donor-acceptor structures (DA) \n",
    "model_dir = \"DA_Final_Model\" # NOTE: Be sure to have the model files saved in the same directory with this name \n",
    "DA_model = GraphConvModel(n_tasks = 2,\n",
    "                       graph_conv_layers = [295, 295, 295, 295, 295, 295],\n",
    "                       dense_layers = [382, 382, 382, 382],\n",
    "                       dropout = 0.00874,\n",
    "                       learning_rate = 0.0001,\n",
    "                       batch_size = 10,\n",
    "                       model_dir = model_dir)\n",
    "DA_model.restore(DA_model.get_checkpoints()[-1])\n",
    "\n",
    "# predict with the mol data \n",
    "DA_pred = DA_model.predict(DA_data)\n",
    "for i, pred in enumerate(DA_pred):\n",
    "    print(f\"{list_names[i]} ST gap: {pred[0]:.4f} eV | HL gap: {pred[1]*27.2114:.4f} eV\")\n",
    "\n",
    "\n",
    "# restore model trained on donor-acceptor-donor structures (DAD) \n",
    "model_dir = \"DAD_Final_Model\" # NOTE: Be sure to have the model files saved in the same directory with this name \n",
    "DAD_model = GraphConvModel(n_tasks = 2,\n",
    "                       graph_conv_layers = [512, 512, 512, 512], \n",
    "                       dense_layers = [128, 128, 128],\n",
    "                       dropout = 0.01,\n",
    "                       learning_rate = 0.001,\n",
    "                       batch_size = 10,\n",
    "                       model_dir = model_dir)\n",
    "DAD_model.restore(DAD_model.get_checkpoints()[-1])\n",
    "\n",
    "# predict with the mol data \n",
    "DAD_pred = DAD_model.predict(DAD_data)\n",
    "print(f\"{list_names[-1]} ST gap: {DAD_pred[0][0]:.4f} eV | HL gap: {DAD_pred[0][1]*27.2114:.4f} eV\")\n"
   ]
  },
  {
   "cell_type": "code",
   "execution_count": null,
   "id": "female-diary",
   "metadata": {},
   "outputs": [],
   "source": []
  },
  {
   "cell_type": "code",
   "execution_count": null,
   "id": "adaptive-carnival",
   "metadata": {},
   "outputs": [],
   "source": []
  }
 ],
 "metadata": {
  "kernelspec": {
   "display_name": "Python 3",
   "language": "python",
   "name": "python3"
  },
  "language_info": {
   "codemirror_mode": {
    "name": "ipython",
    "version": 3
   },
   "file_extension": ".py",
   "mimetype": "text/x-python",
   "name": "python",
   "nbconvert_exporter": "python",
   "pygments_lexer": "ipython3",
   "version": "3.8.8"
  }
 },
 "nbformat": 4,
 "nbformat_minor": 5
}
